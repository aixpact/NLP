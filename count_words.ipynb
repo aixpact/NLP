{
 "cells": [
  {
   "cell_type": "code",
   "execution_count": null,
   "metadata": {},
   "outputs": [],
   "source": [
    "from collections import Counter"
   ]
  },
  {
   "cell_type": "code",
   "execution_count": null,
   "metadata": {},
   "outputs": [],
   "source": [
    "def count_words(text):                   #counts word frequency\n",
    "    skips = [\".\", \", \", \":\", \";\", \"'\", '\"']\n",
    "    for ch in skips:\n",
    "        text = text.replace(ch, \"\")\n",
    "    word_counts = {}\n",
    "    for word in text.split(\" \"):\n",
    "        if word in word_counts:\n",
    "            word_counts[word]+= 1\n",
    "        else:\n",
    "            word_counts[word]= 1\n",
    "    return word_counts\n",
    "\n",
    "def count_words_fast(text):      #counts word frequency using Counter from collections\n",
    "    text = text.lower()\n",
    "    skips = [\".\", \", \", \":\", \";\", \"'\", '\"']\n",
    "    for ch in skips:\n",
    "        text = text.replace(ch, \"\")\n",
    "    word_counts = Counter(text.split(\" \"))\n",
    "    return word_counts\n",
    "\n",
    "\n",
    "len(count_words_fast(\"This comprehension check is to check for comprehension.\"))\n",
    "text = \"something is here\"\n",
    "count_words(text) is count_words_fast(text)"
   ]
  },
  {
   "cell_type": "code",
   "execution_count": null,
   "metadata": {},
   "outputs": [],
   "source": []
  }
 ],
 "metadata": {
  "language_info": {
   "name": "python",
   "pygments_lexer": "ipython3"
  }
 },
 "nbformat": 4,
 "nbformat_minor": 2
}
