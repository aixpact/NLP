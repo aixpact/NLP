{
 "cells": [
  {
   "cell_type": "markdown",
   "metadata": {},
   "source": [
    "# Document Similarity & Topic Modelling"
   ]
  },
  {
   "cell_type": "markdown",
   "metadata": {},
   "source": [
    "---\n",
    "You are currently looking at **version 1.0** of this notebook.\n",
    "\n",
    "---"
   ]
  },
  {
   "cell_type": "markdown",
   "metadata": {},
   "source": [
    "## Part 1 - Document Similarity\n",
    "\n",
    "For the first part of this assignment, you will complete the functions `doc_to_synsets` and `similarity_score` which will be used by `document_path_similarity` to find the path similarity between two documents.\n",
    "\n",
    "The following functions are provided:\n",
    "* **`convert_tag:`** converts the tag given by `nltk.pos_tag` to a tag used by `wordnet.synsets`. You will need to use this function in `doc_to_synsets`.\n",
    "* **`document_path_similarity:`** computes the symmetrical path similarity between two documents by finding the synsets in each document using `doc_to_synsets`, then computing similarities using `similarity_score`.\n",
    "\n",
    "You will need to finish writing the following functions:\n",
    "* **`doc_to_synsets:`** returns a list of synsets in document. This function should first tokenize and part of speech tag the document using `nltk.word_tokenize` and `nltk.pos_tag`. Then it should find each tokens corresponding synset using `wn.synsets(token, wordnet_tag)`. The first synset match should be used. If there is no match, that token is skipped.\n",
    "* **`similarity_score:`** returns the normalized similarity score of a list of synsets (s1) onto a second list of synsets (s2). For each synset in s1, find the synset in s2 with the largest similarity value. Sum all of the largest similarity values together and normalize this value by dividing it by the number of largest similarity values found. Be careful with data types, which should be floats. Missing values should be ignored.\n",
    "\n",
    "Once `doc_to_synsets` and `similarity_score` have been completed, submit to the autograder which will run `test_document_path_similarity` to test that these functions are running correctly. \n",
    "\n",
    "*Do not modify the functions `convert_tag`, `document_path_similarity`, and `test_document_path_similarity`.*"
   ]
  },
  {
   "cell_type": "code",
   "execution_count": null,
   "metadata": {},
   "outputs": [],
   "source": [
    "import numpy as np\n",
    "import nltk\n",
    "from nltk.corpus import wordnet as wn\n",
    "import pandas as pd\n",
    "\n",
    "from sklearn.metrics import accuracy_score"
   ]
  },
  {
   "cell_type": "markdown",
   "metadata": {},
   "source": [
    "### Synset"
   ]
  },
  {
   "cell_type": "code",
   "execution_count": null,
   "metadata": {},
   "outputs": [],
   "source": [
    "cat = wn.synset('cat.n.01')\n",
    "dog = wn.synset('dog.n.01')\n",
    "cat.hypernyms(), dog.hypernyms()"
   ]
  },
  {
   "cell_type": "markdown",
   "metadata": {},
   "source": [
    "### Helper to convert nltk-pos_tags to wordnet-pos_tags"
   ]
  },
  {
   "cell_type": "code",
   "execution_count": null,
   "metadata": {},
   "outputs": [],
   "source": [
    "def convert_tag(tag):\n",
    "    \"\"\"Convert the tag given by nltk.pos_tag to the tag used by wordnet.synsets\"\"\"\n",
    "    tag_dict = {'N': 'n', 'J': 'a', 'R': 'r', 'V': 'v'}\n",
    "    try:\n",
    "        return tag_dict[tag[0]]\n",
    "    except KeyError:\n",
    "        return None"
   ]
  },
  {
   "cell_type": "markdown",
   "metadata": {},
   "source": [
    "### Convert document to list of synsets\n",
    "Tokenizes and tags the words in the document doc.\n",
    " - Then finds the first synset for each word/tag combination.\n",
    " - If a synset is not found for that combination it is skipped."
   ]
  },
  {
   "cell_type": "code",
   "execution_count": null,
   "metadata": {},
   "outputs": [],
   "source": [
    "def doc_to_synsets(doc):\n",
    "    synsetlist =[]\n",
    "    tokens=nltk.word_tokenize(doc)\n",
    "    pos=nltk.pos_tag(tokens)    \n",
    "    for tup in pos:\n",
    "        try:\n",
    "            synsetlist.append(wn.synsets(tup[0], convert_tag(tup[1]))[0])\n",
    "        except:\n",
    "            continue           \n",
    "    return synsetlist"
   ]
  },
  {
   "cell_type": "code",
   "execution_count": null,
   "metadata": {},
   "outputs": [],
   "source": [
    "doc_to_synsets('Fish are nvqjp friends.')"
   ]
  },
  {
   "cell_type": "markdown",
   "metadata": {},
   "source": [
    "### Normalized Similarity score of 2 lists of synsets (s1, s2)\n",
    " - for each synset in s1, finds the synset in s2 with the largest similarity value.\n",
    " - take the mean of largest similarity values"
   ]
  },
  {
   "cell_type": "code",
   "execution_count": null,
   "metadata": {},
   "outputs": [],
   "source": [
    "def similarity_score(s1, s2):\n",
    "    max_scores = []\n",
    "    for synset1 in s1:\n",
    "        run_max = 0\n",
    "        for synset2 in s2:\n",
    "            try:\n",
    "                sim_score = synset1.path_similarity(synset2)\n",
    "                run_max = max(run_max, sim_score)\n",
    "            except:\n",
    "                continue\n",
    "        if run_max > 0:\n",
    "             max_scores.append(run_max)  \n",
    "    return np.mean(max_scores) or 0"
   ]
  },
  {
   "cell_type": "code",
   "execution_count": null,
   "metadata": {},
   "outputs": [],
   "source": [
    "synsets1 = doc_to_synsets('I like cats')\n",
    "synsets2 = doc_to_synsets('I like dogs')\n",
    "similarity_score(synsets1, synsets2)"
   ]
  },
  {
   "cell_type": "markdown",
   "metadata": {},
   "source": [
    "### Find the symmetrical similarity between doc1 and doc2"
   ]
  },
  {
   "cell_type": "code",
   "execution_count": null,
   "metadata": {},
   "outputs": [],
   "source": [
    "def document_path_similarity(doc1, doc2):\n",
    "    synsets1 = doc_to_synsets(doc1)\n",
    "    synsets2 = doc_to_synsets(doc2)\n",
    "    return (similarity_score(synsets1, synsets2) + similarity_score(synsets2, synsets1)) / 2"
   ]
  },
  {
   "cell_type": "code",
   "execution_count": null,
   "metadata": {},
   "outputs": [],
   "source": [
    "doc1 = 'This is a function to test document_path_similarity.'\n",
    "doc2 = 'Use this function to see if your code in doc_to_synsets and similarity_score is correct!'\n",
    "document_path_similarity(doc1, doc2)"
   ]
  },
  {
   "cell_type": "code",
   "execution_count": null,
   "metadata": {},
   "outputs": [],
   "source": [
    "from nltk.book import *"
   ]
  },
  {
   "cell_type": "code",
   "execution_count": null,
   "metadata": {},
   "outputs": [],
   "source": [
    "document_path_similarity(' '.join(sent3), ' '.join(sent3))"
   ]
  },
  {
   "cell_type": "markdown",
   "metadata": {},
   "source": [
    "### Document similarity - paraphrasing\n",
    "**`paraphrases`** is a DataFrame which contains the following columns:\n",
    "- `Quality` is an indicator variable which indicates if the two documents \n",
    "- `D1` and `D2` are paraphrases of one another (1 for paraphrase, 0 for not paraphrase)."
   ]
  },
  {
   "cell_type": "code",
   "execution_count": null,
   "metadata": {},
   "outputs": [],
   "source": [
    "# Use this dataframe for questions most_similar_docs and label_accuracy\n",
    "paraphrases = pd.read_csv('data/paraphrases.csv')\n",
    "paraphrases.head()"
   ]
  },
  {
   "cell_type": "markdown",
   "metadata": {},
   "source": [
    "### Most similar documents\n",
    "Using `document_path_similarity`, find the pair of documents in paraphrases which has the maximum similarity score."
   ]
  },
  {
   "cell_type": "code",
   "execution_count": null,
   "metadata": {},
   "outputs": [],
   "source": [
    "def most_similar_docs(df_):\n",
    "    doc_sim_scores = pd.DataFrame([(D1, D2, document_path_similarity(D1, D2)) \n",
    "                  for D1, D2 in zip(df_.loc[:, 'D1'], df_.loc[:, 'D2'])], columns=['D1', 'D2','score'])\n",
    "    max_idx = doc_sim_scores.loc[:, 'score'].idxmax()  # np.argmax deprecated\n",
    "    max_instance = doc_sim_scores.iloc[max_idx]\n",
    "    return tuple(max_instance)"
   ]
  },
  {
   "cell_type": "code",
   "execution_count": null,
   "metadata": {},
   "outputs": [],
   "source": [
    "most_similar_docs(paraphrases)"
   ]
  },
  {
   "cell_type": "markdown",
   "metadata": {},
   "source": [
    "### Label accuracy\n",
    "Provide labels for the twenty pairs of documents by computing the similarity for each pair using `document_path_similarity`.  \n",
    "Let the classifier rule be that if the score is greater than 0.75:\n",
    " - label is (1) paraphrase\n",
    " - else label (0) is not paraphrase\n",
    " Report accuracy of the classifier using scikit-learn's accuracy_score."
   ]
  },
  {
   "cell_type": "code",
   "execution_count": null,
   "metadata": {},
   "outputs": [],
   "source": [
    "def label_accuracy(df_, threshold=0.75):\n",
    "    doc_sim_scores = pd.DataFrame([(D1, D2, document_path_similarity(D1, D2)) \n",
    "                  for D1, D2 in zip(df_.loc[:, 'D1'], df_.loc[:, 'D2'])], columns=['D1', 'D2','score'])\n",
    "    doc_sim_scores['label'] = (doc_sim_scores['score'] > threshold) *1\n",
    "    return doc_sim_scores"
   ]
  },
  {
   "cell_type": "code",
   "execution_count": null,
   "metadata": {},
   "outputs": [],
   "source": [
    "df_paraphrase = label_accuracy(paraphrases, threshold=0.75)\n",
    "df_paraphrase"
   ]
  },
  {
   "cell_type": "code",
   "execution_count": null,
   "metadata": {},
   "outputs": [],
   "source": [
    "df_paraphrase.describe()"
   ]
  },
  {
   "cell_type": "markdown",
   "metadata": {},
   "source": [
    "## Part 2 - Topic Modelling\n",
    "\n",
    "For the second part of this assignment, you will use Gensim's LDA (Latent Dirichlet Allocation) model to model topics in `newsgroup_data`. You will first need to finish the code in the cell below by using gensim.models.ldamodel.LdaModel constructor to estimate LDA model parameters on the corpus, and save to the variable `ldamodel`. Extract 10 topics using `corpus` and `id_map`, and with `passes=25` and `random_state=34`."
   ]
  },
  {
   "cell_type": "markdown",
   "metadata": {},
   "source": [
    "'https://radimrehurek.com/gensim/models/ldamodel.html'"
   ]
  },
  {
   "cell_type": "code",
   "execution_count": null,
   "metadata": {},
   "outputs": [],
   "source": [
    "import numpy as np\n",
    "import nltk\n",
    "from nltk.corpus import wordnet as wn\n",
    "import pandas as pd\n",
    "\n",
    "import pickle\n",
    "import gensim\n",
    "from sklearn.feature_extraction.text import CountVectorizer\n",
    "from sklearn.metrics import accuracy_score"
   ]
  },
  {
   "cell_type": "markdown",
   "metadata": {},
   "source": [
    "### Import data"
   ]
  },
  {
   "cell_type": "code",
   "execution_count": null,
   "metadata": {},
   "outputs": [],
   "source": [
    "# !pwd\n",
    "# !ls data\n",
    "# !head -10 data/newsgroups.dms"
   ]
  },
  {
   "cell_type": "code",
   "execution_count": null,
   "metadata": {},
   "outputs": [],
   "source": [
    "# Load the list of documents\n",
    "with open('data/newsgroups.dms', 'rb') as f:\n",
    "    newsgroup_data = pickle.load(f)"
   ]
  },
  {
   "cell_type": "markdown",
   "metadata": {},
   "source": [
    "### Select and clean tokens\n",
    "Use CountVectorizor to find three letter tokens\n",
    " - remove stop_words \n",
    " - remove tokens that don't appear in at least 20 documents\n",
    " - remove tokens that appear in more than 20% of the documents"
   ]
  },
  {
   "cell_type": "code",
   "execution_count": null,
   "metadata": {},
   "outputs": [],
   "source": [
    "vect = CountVectorizer(min_df=20, \n",
    "                       max_df=0.2, \n",
    "                       stop_words='english', \n",
    "                       token_pattern='(?u)\\\\b\\\\w\\\\w\\\\w+\\\\b')"
   ]
  },
  {
   "cell_type": "markdown",
   "metadata": {},
   "source": [
    "### Fit and transform data (create sparse matrix)"
   ]
  },
  {
   "cell_type": "code",
   "execution_count": null,
   "metadata": {},
   "outputs": [],
   "source": [
    "X = vect.fit_transform(newsgroup_data)"
   ]
  },
  {
   "cell_type": "markdown",
   "metadata": {},
   "source": [
    "### Convert sparse matrix to gensim corpus."
   ]
  },
  {
   "cell_type": "code",
   "execution_count": null,
   "metadata": {},
   "outputs": [],
   "source": [
    "corpus = gensim.matutils.Sparse2Corpus(X, documents_columns=False)"
   ]
  },
  {
   "cell_type": "markdown",
   "metadata": {},
   "source": [
    "### Mapping from word IDs to words (To be used in LdaModel's id2word parameter)"
   ]
  },
  {
   "cell_type": "code",
   "execution_count": null,
   "metadata": {},
   "outputs": [],
   "source": [
    "id_map = {v:k for k, v in vect.vocabulary_.items()}"
   ]
  },
  {
   "cell_type": "markdown",
   "metadata": {},
   "source": [
    "### LDA model"
   ]
  },
  {
   "cell_type": "code",
   "execution_count": null,
   "metadata": {},
   "outputs": [],
   "source": [
    "ldamodel = gensim.models.ldamodel.LdaModel(corpus=corpus, num_topics=10, passes=25, id2word=id_map, random_state=0)\n",
    "print(ldamodel)\n",
    "print(ldamodel.print_topics(num_topics=4, num_words=5))"
   ]
  },
  {
   "cell_type": "markdown",
   "metadata": {},
   "source": [
    "### Put together"
   ]
  },
  {
   "cell_type": "code",
   "execution_count": null,
   "metadata": {},
   "outputs": [],
   "source": [
    "def lda_model(doc, min_df=20, max_df=0.2, stop_words='english', token_pattern='(?u)\\\\b\\\\w\\\\w\\\\w+\\\\b', n_topics=10, n_words=10, passes=25):\n",
    "    vect = CountVectorizer(min_df=min_df, \n",
    "                       max_df=max_df, \n",
    "                       stop_words=stop_words, \n",
    "                       token_pattern=token_pattern)\n",
    "    X = vect.fit_transform(doc)\n",
    "    corpus = gensim.matutils.Sparse2Corpus(X, documents_columns=False)\n",
    "    id2word_dict = {v:k for k, v in vect.vocabulary_.items()}\n",
    "    return gensim.models.ldamodel.LdaModel(corpus=corpus, num_topics=n_topics, passes=passes, id2word=id2word_dict, random_state=0)"
   ]
  },
  {
   "cell_type": "code",
   "execution_count": null,
   "metadata": {},
   "outputs": [],
   "source": [
    "lda = lda_model(newsgroup_data)"
   ]
  },
  {
   "cell_type": "markdown",
   "metadata": {},
   "source": [
    "### LDA Topics\n",
    " - find a list of the N topics and the most significant M words in each topic."
   ]
  },
  {
   "cell_type": "code",
   "execution_count": null,
   "metadata": {},
   "outputs": [],
   "source": [
    "N, M = 10, 5\n",
    "lda.show_topics(num_topics=N, num_words=M)"
   ]
  },
  {
   "cell_type": "markdown",
   "metadata": {},
   "source": [
    "### Topic distribution\n",
    " - find the topic distribution for a new document\n",
    " - use vect.transform on the the new doc, and Sparse2Corpus to convert the sparse matrix to gensim corpus"
   ]
  },
  {
   "cell_type": "code",
   "execution_count": null,
   "metadata": {},
   "outputs": [],
   "source": [
    "new_doc = [\"\\n\\nIt's my understanding that the freezing will start to occur because \\\n",
    "of the\\ngrowing distance of Pluto and Charon from the Sun, due to it's\\nelliptical orbit. \\\n",
    "It is not due to shadowing effects. \\n\\n\\nPluto can shadow Charon, and vice-versa.\\n\\nGeorge \\\n",
    "Krumins\\n-- \"]"
   ]
  },
  {
   "cell_type": "code",
   "execution_count": null,
   "metadata": {},
   "outputs": [],
   "source": [
    "def lda_topic_dist(doc, ldamodel):\n",
    "    X = vect.transform(doc)\n",
    "    corpus = gensim.matutils.Sparse2Corpus(X, documents_columns=False)\n",
    "    return ldamodel[corpus][0]"
   ]
  },
  {
   "cell_type": "code",
   "execution_count": null,
   "metadata": {},
   "outputs": [],
   "source": [
    "lda_topic_dist(new_doc, ldamodel)"
   ]
  },
  {
   "cell_type": "markdown",
   "metadata": {},
   "source": [
    "### Topic names\n",
    " - assign topic names to the topics you found\n",
    " - create a new topic name if needed"
   ]
  },
  {
   "cell_type": "code",
   "execution_count": null,
   "metadata": {},
   "outputs": [],
   "source": [
    "topics_names = 'Health,Science,Automobiles,Politics,Government,Travel,Computers & IT,Sports,Business,Society & Lifestyle,Religion,Education'.split(',')\n",
    "topics_names = np.array(topics_names)\n",
    "topics_names[::-1][:3]"
   ]
  },
  {
   "cell_type": "code",
   "execution_count": null,
   "metadata": {},
   "outputs": [],
   "source": [
    "topics = [(topic_id, word[0], word[1]) for topic_id, topic_words in lda.show_topics(num_topics=10, num_words=10, formatted=False) \n",
    "                     for word in topic_words]\n",
    "df_topic = pd.DataFrame(topics, columns=['topic_id', 'words', 'probability'])\n",
    "df_topic.head()"
   ]
  },
  {
   "cell_type": "code",
   "execution_count": null,
   "metadata": {},
   "outputs": [],
   "source": [
    "df_ = pd.DataFrame()\n",
    "df_topic['words'] += ' '\n",
    "df_['excerpt'] = df_topic.groupby('topic_id')['words'].sum().values\n",
    "df_"
   ]
  },
  {
   "cell_type": "code",
   "execution_count": null,
   "metadata": {},
   "outputs": [],
   "source": [
    "def topic_name_max(topic_words, topics_names):\n",
    "    idx_max = np.argmax(np.array([document_path_similarity(topic_words, topic_name) for topic_name in topics_names]))\n",
    "    return topics_names[idx_max]"
   ]
  },
  {
   "cell_type": "code",
   "execution_count": null,
   "metadata": {},
   "outputs": [],
   "source": [
    "df_['topic_max'] = [topic_name_max(topic_word, topics_names) for topic_word in topic_words]"
   ]
  },
  {
   "cell_type": "code",
   "execution_count": null,
   "metadata": {},
   "outputs": [],
   "source": [
    "def topic_name_topn(topic_words, topics_names, N=3):\n",
    "    idx_max = np.argsort(np.array([document_path_similarity(topic_words, topic_name) for topic_name in topics_names]))\n",
    "    return topics_names[idx_max[::-1][:N]]"
   ]
  },
  {
   "cell_type": "code",
   "execution_count": null,
   "metadata": {},
   "outputs": [],
   "source": [
    "df_['topics_topn'] = [topic_name_topn(topic_word, topics_names) for topic_word in topic_words]"
   ]
  },
  {
   "cell_type": "code",
   "execution_count": null,
   "metadata": {},
   "outputs": [],
   "source": [
    "def topic_name_sort(topic_words, topics_names, N=3):\n",
    "    idx_max = np.argsort(np.array([document_path_similarity(topic_words, topic_name) for topic_name in topics_names]))\n",
    "    return topics_names[idx_max[::-1]]"
   ]
  },
  {
   "cell_type": "code",
   "execution_count": null,
   "metadata": {},
   "outputs": [],
   "source": [
    "df_['topics_sort'] = [topic_name_sort(topic_word, topics_names) for topic_word in topic_words]"
   ]
  },
  {
   "cell_type": "code",
   "execution_count": null,
   "metadata": {},
   "outputs": [],
   "source": [
    "def topic_name_mean(topic_words, topics_names, N=3):\n",
    "    from collections import Counter\n",
    "    # Mute np.mean - division by zero\n",
    "    import warnings\n",
    "    with warnings.catch_warnings():\n",
    "        warnings.simplefilter(\"ignore\", category=RuntimeWarning)\n",
    "        idx_max = []\n",
    "        for tw in topic_words.split(' '):\n",
    "            np.seterr(all='raise')\n",
    "            try:\n",
    "                if tw == '':\n",
    "                    continue\n",
    "                idx = np.argmax(np.array([document_path_similarity(tw, topic_name) for topic_name in topics_names]))\n",
    "                idx_max.append(idx)\n",
    "                print('word: {0:20} -> topic: {2}({1})'.format(tw, idx, topics_names[idx]))\n",
    "            except:\n",
    "                continue\n",
    "        most_common = topics_names[Counter(idx_max).most_common(1)[0][0]]\n",
    "        print('most common topic: {}\\n'.format(most_common))\n",
    "    return most_common"
   ]
  },
  {
   "cell_type": "code",
   "execution_count": null,
   "metadata": {},
   "outputs": [],
   "source": [
    "df_['topics_mean'] = [topic_name_mean(topic_word, topics_names) for topic_word in topic_words]"
   ]
  },
  {
   "cell_type": "code",
   "execution_count": null,
   "metadata": {},
   "outputs": [],
   "source": [
    "df_"
   ]
  },
  {
   "cell_type": "code",
   "execution_count": null,
   "metadata": {},
   "outputs": [],
   "source": [
    "# education = wn.synset('education.n.01')\n",
    "# sports = wn.synset('sports.n.01')\n",
    "# education.hypernyms(), sports.hypernyms()"
   ]
  },
  {
   "cell_type": "code",
   "execution_count": null,
   "metadata": {},
   "outputs": [],
   "source": [
    "for tn in topics_names:\n",
    "    print('topic: {:20} -> {}'.format(tn, doc_to_synsets(tn), wn.synsets(tn)))"
   ]
  },
  {
   "cell_type": "code",
   "execution_count": null,
   "metadata": {},
   "outputs": [],
   "source": []
  },
  {
   "cell_type": "code",
   "execution_count": null,
   "metadata": {},
   "outputs": [],
   "source": [
    "# Train update\n",
    "# lda.update(other_corpus)"
   ]
  },
  {
   "cell_type": "code",
   "execution_count": null,
   "metadata": {},
   "outputs": [],
   "source": []
  }
 ],
 "metadata": {
  "language_info": {
   "name": "python",
   "pygments_lexer": "ipython3"
  }
 },
 "nbformat": 4,
 "nbformat_minor": 2
}
