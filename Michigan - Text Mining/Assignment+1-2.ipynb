{
 "cells": [
  {
   "cell_type": "markdown",
   "metadata": {},
   "source": [
    "---\n",
    "\n",
    "_You are currently looking at **version 1.1** of this notebook. To download notebooks and datafiles, as well as get help on Jupyter notebooks in the Coursera platform, visit the [Jupyter Notebook FAQ](https://www.coursera.org/learn/python-social-network-analysis/resources/yPcBs) course resource._\n",
    "\n",
    "---"
   ]
  },
  {
   "cell_type": "markdown",
   "metadata": {},
   "source": [
    "# Assignment 1 - Creating and Manipulating Graphs\n",
    "\n",
    "Eight employees at a small company were asked to choose 3 movies that they would most enjoy watching for the upcoming company movie night. These choices are stored in the file `Employee_Movie_Choices.txt`.\n",
    "\n",
    "A second file, `Employee_Relationships.txt`, has data on the relationships between different coworkers. \n",
    "\n",
    "The relationship score has value of `-100` (Enemies) to `+100` (Best Friends). A value of zero means the two employees haven't interacted or are indifferent.\n",
    "\n",
    "Both files are tab delimited."
   ]
  },
  {
   "cell_type": "code",
   "execution_count": null,
   "metadata": {},
   "outputs": [],
   "source": [
    "import networkx as nx\n",
    "import pandas as pd\n",
    "import numpy as np\n",
    "from networkx.algorithms import bipartite\n",
    "\n",
    "\n",
    "# This is the set of employees\n",
    "employees = set(['Pablo',\n",
    "                 'Lee',\n",
    "                 'Georgia',\n",
    "                 'Vincent',\n",
    "                 'Andy',\n",
    "                 'Frida',\n",
    "                 'Joan',\n",
    "                 'Claude'])\n",
    "\n",
    "# This is the set of movies\n",
    "movies = set(['The Shawshank Redemption',\n",
    "              'Forrest Gump',\n",
    "              'The Matrix',\n",
    "              'Anaconda',\n",
    "              'The Social Network',\n",
    "              'The Godfather',\n",
    "              'Monty Python and the Holy Grail',\n",
    "              'Snakes on a Plane',\n",
    "              'Kung Fu Panda',\n",
    "              'The Dark Knight',\n",
    "              'Mean Girls'])\n",
    "\n",
    "\n",
    "# you can use the following function to plot graphs\n",
    "# make sure to comment it out before submitting to the autograder\n",
    "def plot_graph(G, weight_name=None):\n",
    "    '''\n",
    "    G: a networkx G\n",
    "    weight_name: name of the attribute for plotting edge weights (if G is weighted)\n",
    "    '''\n",
    "    %matplotlib notebook\n",
    "    import matplotlib.pyplot as plt\n",
    "    \n",
    "    plt.figure()\n",
    "    pos = nx.spring_layout(G)\n",
    "    edges = G.edges()\n",
    "    weights = None\n",
    "    \n",
    "    if weight_name:\n",
    "        weights = [int(G[u][v][weight_name]) for u,v in edges]\n",
    "        labels = nx.get_edge_attributes(G,weight_name)\n",
    "        nx.draw_networkx_edge_labels(G,pos,edge_labels=labels)\n",
    "        nx.draw_networkx(G, pos, edges=edges, width=weights);\n",
    "    else:\n",
    "        nx.draw_networkx(G, pos, edges=edges);"
   ]
  },
  {
   "cell_type": "markdown",
   "metadata": {},
   "source": [
    "### Question 1\n",
    "\n",
    "Using NetworkX, load in the bipartite graph from `Employee_Movie_Choices.txt` and return that graph.\n",
    "\n",
    "*This function should return a networkx graph with 19 nodes and 24 edges*"
   ]
  },
  {
   "cell_type": "code",
   "execution_count": null,
   "metadata": {},
   "outputs": [],
   "source": [
    "# !cat Employee_Movie_Choices.txt\n",
    "def answer_one():\n",
    "        \n",
    "    # Your Code Here\n",
    "    G = nx.read_edgelist('Employee_Movie_Choices.txt', delimiter='\\t')\n",
    "#     G_df = pd.read_csv('Employee_Movie_Choices.txt', delimiter='\\t', names=['employee', 'movie'])\n",
    "    \n",
    "#     plot_graph(G)\n",
    "#     print(G.edges(data=True))\n",
    "    return G\n",
    "# answer_one()"
   ]
  },
  {
   "cell_type": "markdown",
   "metadata": {},
   "source": [
    "### Question 2\n",
    "\n",
    "Using the graph from the previous question, add nodes attributes named `'type'` where movies have the value `'movie'` and employees have the value `'employee'` and return that graph.\n",
    "\n",
    "*This function should return a networkx graph with node attributes `{'type': 'movie'}` or `{'type': 'employee'}`*"
   ]
  },
  {
   "cell_type": "code",
   "execution_count": null,
   "metadata": {},
   "outputs": [],
   "source": [
    "def answer_two():\n",
    "    \n",
    "    # Your Code Here\n",
    "    G_df = pd.read_csv('Employee_Movie_Choices.txt', delimiter='\\t', skiprows=1, names=['employee', 'movie'])\n",
    "\n",
    "    G = answer_one()\n",
    "    [G.add_node(G_df.loc[i, 'employee'], type='employee') for i, x in enumerate(G_df.index)]\n",
    "    [G.add_node(G_df.loc[i, 'movie'], type='movie') for i, x in enumerate(G_df.index)]\n",
    "    \n",
    "#     plot_graph(G)\n",
    "#     print(G.edges(data=True))\n",
    "    \n",
    "    return G\n",
    "# answer_two()"
   ]
  },
  {
   "cell_type": "markdown",
   "metadata": {},
   "source": [
    "### Question 3\n",
    "\n",
    "Find a weighted projection of the graph from `answer_two` which tells us how many movies different pairs of employees have in common.\n",
    "\n",
    "*This function should return a weighted projected graph.*"
   ]
  },
  {
   "cell_type": "code",
   "execution_count": null,
   "metadata": {},
   "outputs": [],
   "source": [
    "def answer_three():\n",
    "        \n",
    "    # Your Code Here\n",
    "    G = answer_two()\n",
    "    L = [x for x in G if G.node[x]['type'] == 'employee']\n",
    "    R = [x for x in G if G.node[x]['type'] == 'movie']\n",
    "    \n",
    "    B = nx.Graph() \n",
    "    B.add_nodes_from(L, bipartite=0)\n",
    "    B.add_nodes_from(R, bipartite=1)\n",
    "    B.add_edges_from(G.edges())\n",
    "    assert bipartite.is_bipartite(B) # Check if B is bipartite\n",
    "    \n",
    "    P = bipartite.weighted_projected_graph(B, L)\n",
    "\n",
    "    return P\n",
    "# answer_three()"
   ]
  },
  {
   "cell_type": "markdown",
   "metadata": {},
   "source": [
    "### Question 4\n",
    "\n",
    "Suppose you'd like to find out if people that have a high relationship score also like the same types of movies.\n",
    "\n",
    "Find the Pearson correlation ( using `DataFrame.corr()` ) between employee relationship scores and the number of movies they have in common. If two employees have no movies in common it should be treated as a 0, not a missing value, and should be included in the correlation calculation.\n",
    "\n",
    "*This function should return a float.*"
   ]
  },
  {
   "cell_type": "code",
   "execution_count": null,
   "metadata": {},
   "outputs": [],
   "source": [
    "def answer_four():\n",
    "    \n",
    "    from itertools import permutations\n",
    "    \n",
    "    G_df = pd.read_csv('Employee_Relationships.txt', delimiter='\\t', skiprows=1, names=['emp1', 'emp2', 'score'])\n",
    "    \n",
    "    G1 = nx.from_pandas_dataframe(G_df, 'emp1', 'emp2', edge_attr='score')\n",
    "    G2 = answer_three()\n",
    "    G3 = nx.compose(G1, G2)\n",
    "#     print(G3.edges(data=True))\n",
    "    \n",
    "    df = pd.DataFrame(G3.edges(data=True), columns=['emp1', 'emp2', 'score_weight'])\n",
    "\n",
    "    def fun(x, ftr):\n",
    "        try:\n",
    "            x[ftr]\n",
    "        except:\n",
    "            return 0\n",
    "        return x[ftr]\n",
    "        \n",
    "    df['score'] = df['score_weight'].map(lambda x: fun(x, 'score'))\n",
    "    df['weight'] = df['score_weight'].map(lambda x: fun(x, 'weight'))\n",
    "\n",
    "    cor = df['weight'].corr(df['score'])\n",
    "    \n",
    "    return cor\n",
    "# answer_four()"
   ]
  },
  {
   "cell_type": "code",
   "execution_count": null,
   "metadata": {},
   "outputs": [],
   "source": []
  },
  {
   "cell_type": "code",
   "execution_count": null,
   "metadata": {},
   "outputs": [],
   "source": []
  }
 ],
 "metadata": {
  "language_info": {
   "name": "python",
   "pygments_lexer": "ipython3"
  }
 },
 "nbformat": 4,
 "nbformat_minor": 2
}
